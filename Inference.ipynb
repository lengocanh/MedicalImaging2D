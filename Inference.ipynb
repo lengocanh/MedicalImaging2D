{
 "cells": [
  {
   "cell_type": "code",
   "execution_count": 1,
   "metadata": {},
   "outputs": [
    {
     "name": "stderr",
     "output_type": "stream",
     "text": [
      "Using TensorFlow backend.\n"
     ]
    }
   ],
   "source": [
    "import numpy as np\n",
    "import pandas as pd\n",
    "import pydicom\n",
    "%matplotlib inline\n",
    "import matplotlib.pyplot as plt\n",
    "import keras \n",
    "from keras.preprocessing.image import ImageDataGenerator\n",
    "from tensorflow.keras.models import load_model"
   ]
  },
  {
   "cell_type": "code",
   "execution_count": 11,
   "metadata": {},
   "outputs": [],
   "source": [
    "# This function reads in a .dcm file, checks the important fields for our device, and returns a numpy array\n",
    "# of just the imaging data\n",
    "def check_dicom(filename): \n",
    "    # todo\n",
    "    \n",
    "    print('Load file {} ...'.format(filename))\n",
    "    ds = pydicom.dcmread(filename)       \n",
    "    img = ds.pixel_array\n",
    "    image_position = ds.get(\"PatientPosition\", \"Not Found\")\n",
    "    image_type = ds.get(\"ImageType\", \"Not Found\")\n",
    "    body_part_examined = ds.get(\"BodyPartExamined\", \"Not Found\")\n",
    "    print('image_position',image_position)\n",
    "    print('image_type',image_type)\n",
    "    print('body_part_examined',body_part_examined)\n",
    "    #for elem in ds:\n",
    "    #    if((elem.name == ''))\n",
    "    #    print(f\"{elem.tag} - {elem.name}: {elem.value}\")\n",
    "    return img\n",
    "    \n",
    "    \n",
    "# This function takes the numpy array output by check_dicom and \n",
    "# runs the appropriate pre-processing needed for our model input\n",
    "\n",
    "def resize_image(img, target_size):\n",
    "    # Resize the image to the target size using NumPy (same as before)\n",
    "    original_height, original_width = img.shape[:2]\n",
    "    target_height, target_width = target_size\n",
    "\n",
    "    resized_img = np.zeros((target_height, target_width), dtype=img.dtype)\n",
    "\n",
    "    height_scale = original_height / target_height\n",
    "    width_scale = original_width / target_width\n",
    "\n",
    "    for i in range(target_height):\n",
    "        for j in range(target_width):\n",
    "            orig_x = int(j * width_scale)\n",
    "            orig_y = int(i * height_scale)\n",
    "            resized_img[i, j] = img[orig_y, orig_x]\n",
    "\n",
    "    return resized_img\n",
    "\n",
    "def preprocess_image(img, img_size=(224, 224)):\n",
    "    # Resize the image to the desired size (224x224)\n",
    "    resized_image = resize_image(img, img_size)\n",
    "\n",
    "    # Normalize the image to [0, 1]\n",
    "    normalized_image = resized_image.astype(np.float32) / 255.0\n",
    "\n",
    "\n",
    "    normalized_image = np.stack((normalized_image,) * 3, axis=-1)  # Shape becomes (height, width, 3)\n",
    "\n",
    "    # Add batch dimension (1, height, width, channels)\n",
    "    normalized_image_array = np.expand_dims(normalized_image, axis=0)  # Add batch dimension\n",
    "\n",
    "    return normalized_image_array\n",
    "\n",
    "# This function loads in our trained model w/ weights and compiles it \n",
    "def load_my_model(model_path, weight_path):\n",
    "    # todo\n",
    "    model = load_model(model_path)\n",
    "    model.load_weights(weight_path)\n",
    "    return model\n",
    "\n",
    "# This function uses our device's threshold parameters to predict whether or not\n",
    "# the image shows the presence of pneumonia using our trained model\n",
    "def predict_image(model, img, thresh): \n",
    "    # todo    \n",
    "    prediction = model.predict(img)\n",
    "    print('prediction', prediction)\n",
    "    return (prediction >= thresh)"
   ]
  },
  {
   "cell_type": "code",
   "execution_count": 12,
   "metadata": {},
   "outputs": [
    {
     "name": "stdout",
     "output_type": "stream",
     "text": [
      "Load file test1.dcm ...\n",
      "image_position PA\n",
      "image_type Not Found\n",
      "body_part_examined CHEST\n"
     ]
    },
    {
     "data": {
      "text/plain": [
       "array([[199, 175, 152, ..., 252, 251, 251],\n",
       "       [150, 128, 114, ..., 243, 250, 252],\n",
       "       [122, 110, 102, ..., 193, 222, 239],\n",
       "       ...,\n",
       "       [ 44,  47,  51, ...,  16,  16,  13],\n",
       "       [ 44,  48,  52, ...,  16,  16,  14],\n",
       "       [ 45,  48,  53, ...,  17,  17,  15]], dtype=uint8)"
      ]
     },
     "execution_count": 12,
     "metadata": {},
     "output_type": "execute_result"
    }
   ],
   "source": [
    "check_dicom('test1.dcm')"
   ]
  },
  {
   "cell_type": "code",
   "execution_count": 13,
   "metadata": {},
   "outputs": [
    {
     "name": "stdout",
     "output_type": "stream",
     "text": [
      "Load file test1.dcm ...\n",
      "image_position PA\n",
      "image_type Not Found\n",
      "body_part_examined CHEST\n",
      "prediction [[0.4091284]]\n",
      "[[False]]\n",
      "Load file test2.dcm ...\n",
      "image_position AP\n",
      "image_type Not Found\n",
      "body_part_examined CHEST\n",
      "prediction [[0.34331533]]\n",
      "[[False]]\n",
      "Load file test3.dcm ...\n",
      "image_position AP\n",
      "image_type Not Found\n",
      "body_part_examined CHEST\n",
      "prediction [[0.7490935]]\n",
      "[[False]]\n",
      "Load file test4.dcm ...\n",
      "image_position PA\n",
      "image_type Not Found\n",
      "body_part_examined RIBCAGE\n",
      "prediction [[0.4091284]]\n",
      "[[False]]\n",
      "Load file test5.dcm ...\n",
      "image_position PA\n",
      "image_type Not Found\n",
      "body_part_examined CHEST\n",
      "prediction [[0.4091284]]\n",
      "[[False]]\n",
      "Load file test6.dcm ...\n",
      "image_position XX\n",
      "image_type Not Found\n",
      "body_part_examined CHEST\n",
      "prediction [[0.4091284]]\n",
      "[[False]]\n"
     ]
    }
   ],
   "source": [
    "test_dicoms = ['test1.dcm','test2.dcm','test3.dcm','test4.dcm','test5.dcm','test6.dcm']\n",
    "\n",
    "model_path = 'my_model_vgg16_model.h5'\n",
    "weight_path = 'xray_class_my_model.best.hdf5'\n",
    "\n",
    "IMG_SIZE=(224,224)#(1,224,224,3) # This might be different if you did not use vgg16\n",
    "#img_mean = # loads the mean image value they used during training preprocessing\n",
    "#img_std = # loads the std dev image value they used during training preprocessing\n",
    "\n",
    "my_model = load_my_model(model_path, weight_path)\n",
    "thresh = 0.7964839\n",
    "\n",
    "# use the .dcm files to test your prediction\n",
    "for i in test_dicoms:\n",
    "    \n",
    "    img = np.array([])\n",
    "    img = check_dicom(i)\n",
    "    \n",
    "    if img is None:\n",
    "        continue\n",
    "        \n",
    "    img_proc = preprocess_image(img,IMG_SIZE)\n",
    "    pred = predict_image(my_model,img_proc,thresh)\n",
    "    print(pred)"
   ]
  },
  {
   "cell_type": "code",
   "execution_count": null,
   "metadata": {},
   "outputs": [],
   "source": []
  }
 ],
 "metadata": {
  "kernelspec": {
   "display_name": "Python 3",
   "language": "python",
   "name": "python3"
  },
  "language_info": {
   "codemirror_mode": {
    "name": "ipython",
    "version": 3
   },
   "file_extension": ".py",
   "mimetype": "text/x-python",
   "name": "python",
   "nbconvert_exporter": "python",
   "pygments_lexer": "ipython3",
   "version": "3.7.6"
  }
 },
 "nbformat": 4,
 "nbformat_minor": 2
}
